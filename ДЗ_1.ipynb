{
  "nbformat": 4,
  "nbformat_minor": 0,
  "metadata": {
    "colab": {
      "private_outputs": true,
      "provenance": [],
      "authorship_tag": "ABX9TyMHh/jQG9jtwEDXjwaWTJuY"
    },
    "kernelspec": {
      "name": "python3",
      "display_name": "Python 3"
    },
    "language_info": {
      "name": "python"
    }
  },
  "cells": [
    {
      "cell_type": "code",
      "execution_count": null,
      "metadata": {
        "id": "kj4ua_Wr3TcW"
      },
      "outputs": [],
      "source": [
        "# Задание№1\n",
        "ph_rase1 = 'Насколько проще было бы писать программы, если бы не заказчики'\n"
      ]
    },
    {
      "cell_type": "code",
      "source": [
        "ph_rase2 = '640Кб должно хватить для любых задач. Билл Гейтс (по легенде)'"
      ],
      "metadata": {
        "id": "epm91Quu3p1G"
      },
      "execution_count": null,
      "outputs": []
    },
    {
      "cell_type": "code",
      "source": [
        "if len (ph_rase1) > len (ph_rase2): print ('Фраза 1 длиннее фразы 2')\n",
        "elif len (ph_rase1) < (ph_rase2): print ('Фраза 2 длиннее фразы 1')\n",
        "else: print ('Фраза 1 равна фразе 2')"
      ],
      "metadata": {
        "id": "vhgsaI0642lS"
      },
      "execution_count": null,
      "outputs": []
    },
    {
      "cell_type": "markdown",
      "source": [
        "Задание№2 Дана переменная, в которой хранится число (год). Необходимо написать программу, которая выведет, является ли данный год високосным или обычным.\n"
      ],
      "metadata": {
        "id": "zCWlIdFm6khy"
      }
    },
    {
      "cell_type": "code",
      "source": [
        "year = int(input())\n",
        "if (year % 4 == 0 and year % 100 != 0) or (year % 400 == 0):\n",
        "    print(\"Високосный\")\n",
        "else:\n",
        "    print(\"Обычный\")"
      ],
      "metadata": {
        "id": "td57heBZ8-iu"
      },
      "execution_count": null,
      "outputs": []
    },
    {
      "cell_type": "markdown",
      "source": [
        "Задание №3. Необходимо написать программу, которая будет запрашивать у пользователя месяц и дату рождения и выводить соответствующий знак зодиака.\n"
      ],
      "metadata": {
        "id": "Pbm0zhYg-cwu"
      }
    },
    {
      "cell_type": "code",
      "source": [
        "def find_zodiac_sign(month, day):\n",
        "    if (month == \"январь\" and day >= 20) or (month == \"февраль\" and day <= 18):\n",
        "        return \"Водолей\"\n",
        "    elif (month == \"февраль\" and day >= 19) or (month == \"март\" and day <= 20):\n",
        "        return \"Рыбы\"\n",
        "    elif (month == \"март\" and day >= 21) or (month == \"апрель\" and day <= 19):\n",
        "        return \"Овен\"\n",
        "    elif (month == \"апрель\" and day >= 20) or (month == \"май\" and day <= 20):\n",
        "        return \"Телец\"\n",
        "    elif (month == \"май\" and day >= 21) or (month == \"июнь\" and day <= 20):\n",
        "        return \"Близнецы\"\n",
        "    elif (month == \"июнь\" and day >= 21) or (month == \"июль\" and day <= 22):\n",
        "        return \"Рак\"\n",
        "    elif (month == \"июль\" and day >= 23) or (month == \"август\" and day <= 22):\n",
        "        return \"Лев\"\n",
        "    elif (month == \"август\" and day >= 23) or (month == \"сентябрь\" and day <= 22):\n",
        "        return \"Дева\"\n",
        "    elif (month == \"сентябрь\" and day >= 23) or (month == \"октябрь\" and day <= 22):\n",
        "        return \"Весы\"\n",
        "    elif (month == \"октябрь\" and day >= 23) or (month == \"ноябрь\" and day <= 21):\n",
        "        return \"Скорпион\"\n",
        "    elif (month == \"ноябрь\" and day >= 22) or (month == \"декабрь\" and day <= 21):\n",
        "        return \"Стрелец\"\n",
        "    elif (month == \"декабрь\" and day >= 22) or (month == \"январь\" and day <= 19):\n",
        "        return \"Козерог\"\n",
        "    else:\n",
        "        return \"Некорректная дата рождения\"\n",
        "\n",
        "# Запросить у пользователя месяц и день рождения\n",
        "month = input(\"Введите месяц вашего рождения: \").lower()\n",
        "day = int(input(\"Введите день вашего рождения: \"))\n",
        "\n",
        "# Найти знак зодиака\n",
        "zodiac_sign = find_zodiac_sign(month, day)\n",
        "\n",
        "# Вывести результат\n",
        "print(\"Ваш знак зодиака:\", zodiac_sign)"
      ],
      "metadata": {
        "id": "mlE9tckV-jba"
      },
      "execution_count": null,
      "outputs": []
    },
    {
      "cell_type": "markdown",
      "source": [
        "Задание№4.  Необходимо написать программу, которая будет для подбора упаковок по размерам товара. Размеры (ширина, длина, высота) хранятся в переменных (в сантиметрах):если каждое из трех измерений менее или равно 15 сантиметрам, то выведите на экран \"Коробка №1\"; если хотя бы одно из измерений больше 2 метров, то выводите \"Упаковка для лыж\"; если хотя бы одно из измерений больше 15 сантиметров, но менее 50 сантиметров, то выводите \"Коробка №2\"; во всех остальных случаях выводите \"Коробка №3\""
      ],
      "metadata": {
        "id": "sZs3bND4ddSq"
      }
    },
    {
      "cell_type": "code",
      "source": [
        "width = float (input ('Введите ширину в сантиметрах'))\n",
        "height = float (input ('Введите высоту в сантиметрах'))\n",
        "lenght = float (input('Введите длину в сантиметрах'))\n",
        "if width <= 15 and height <= 15 and lenght <= 15:\n",
        "    print('Коробка №1')\n",
        "elif (width > 200) or (height > 200) or (lenght > 200):\n",
        "    print('Упаковка для лыж')\n",
        "elif (15 > width < 50) or (15 > height < 50) or (15 > lenght < 50):\n",
        "    print('Коробка №2')\n",
        "else:\n",
        "    print('Коробка №3')\n"
      ],
      "metadata": {
        "id": "QmIRfhG1-eD3"
      },
      "execution_count": null,
      "outputs": []
    },
    {
      "cell_type": "markdown",
      "source": [
        "Задание№5. Дана переменная, в которой хранится шестизначное число. Написать программу, которая определит является ли билет счастливым (если сумма первых трех совпадает с суммой трех последних, то билет счастливый)"
      ],
      "metadata": {
        "id": "ci3dUTKEmW1O"
      }
    },
    {
      "cell_type": "code",
      "source": [
        "ticket_number = input ('Введите номер проездного билета')\n",
        "if len (ticket_number) !=6:  # Проверяем шестизачность номера\n",
        "  print('Номер билета некорректный')\n",
        "else:\n",
        "    sum1 = int (ticket_number [0]) +  int (ticket_number [1]) + int (ticket_number [2]) # сумма первых трех и последних трех чисел\n",
        "    sum2 = int (ticket_number [3]) +  int (ticket_number [4]) + int (ticket_number [5])\n",
        "if sum1 == sum2:\n",
        "      print('Счастливый билет')\n",
        "else:\n",
        "      print('Несчастливый билет')\n"
      ],
      "metadata": {
        "id": "00IaLQexom84"
      },
      "execution_count": null,
      "outputs": []
    },
    {
      "cell_type": "markdown",
      "source": [
        "Задание№6. Написать программу, которая сможет вычислить S трех фигур: круг, треугольник, прямоугольник. Тип фигуры через ввод, после чего запрашиваются характеристики каждой фигуры"
      ],
      "metadata": {
        "id": "VeVpqZ12rghz"
      }
    },
    {
      "cell_type": "code",
      "source": [
        "import math\n",
        "type_figure = input ('Введите фигуру')  #   можно решить через функцию math.pi, но введу переменную pi, но воспользовалась все равно библиотекой для корня.\n",
        "if type_figure == \"круг\":\n",
        "  radius = float (input ('Введите радиус круга'))\n",
        "  pi = 3.14\n",
        "  S = pi * radius **2\n",
        "  print('Площадь круга = ', S)\n",
        "elif type_figure == \"прямоугольник\":\n",
        "  side1 = float (input ('Введите первую сторону прямоугольника'))\n",
        "  side2 = float (input ('Введите вторую сторону прямоугольника'))\n",
        "  S1 = side1 * side2\n",
        "  print('Площадь прямоугольника = ', S1)\n",
        "elif type_figure == \"треугольник\":\n",
        "  side1 = float (input ('Введите первую сторону треугольника'))\n",
        "  side2 = float (input ('Введите вторую сторону треугольника'))\n",
        "  side3 = float (input ('Введите третью сторону треугольника'))\n",
        "  P = side1 + side2 + side3\n",
        "  S3 = math.sqrt(P * (P - side1) * (P - side2) * (P - side3))\n",
        "  print('Площадь треугольника =', S3)"
      ],
      "metadata": {
        "id": "r4m4Chuks_Hr"
      },
      "execution_count": null,
      "outputs": []
    },
    {
      "cell_type": "code",
      "source": [],
      "metadata": {
        "id": "ZTFBiSHcHrr0"
      },
      "execution_count": null,
      "outputs": []
    }
  ]
}