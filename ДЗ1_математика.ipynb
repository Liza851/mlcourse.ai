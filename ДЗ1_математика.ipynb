{
  "nbformat": 4,
  "nbformat_minor": 0,
  "metadata": {
    "colab": {
      "private_outputs": true,
      "provenance": [],
      "authorship_tag": "ABX9TyN84nmyLc6l3oDBQxgb3o/m"
    },
    "kernelspec": {
      "name": "python3",
      "display_name": "Python 3"
    },
    "language_info": {
      "name": "python"
    }
  },
  "cells": [
    {
      "cell_type": "code",
      "execution_count": null,
      "metadata": {
        "id": "lJyHGzR6zFO7"
      },
      "outputs": [],
      "source": [
        "import numpy as np"
      ]
    },
    {
      "cell_type": "code",
      "source": [
        "A1 = np.array ([[1, 2, 3], [4, 5, 6], [7, 8, 9]])\n",
        "print (A1)"
      ],
      "metadata": {
        "id": "0pIJota6zNgN"
      },
      "execution_count": null,
      "outputs": []
    },
    {
      "cell_type": "code",
      "source": [
        "A2 = np.eye (3,3)\n",
        "print (A2)"
      ],
      "metadata": {
        "id": "OebbGeqXzoV-"
      },
      "execution_count": null,
      "outputs": []
    },
    {
      "cell_type": "code",
      "source": [
        "A3 = A1 + A2\n",
        "print (A3)"
      ],
      "metadata": {
        "id": "hCNFk88V0DZa"
      },
      "execution_count": null,
      "outputs": []
    },
    {
      "cell_type": "code",
      "source": [
        "vec1 = np.array ([1, 2, 3])\n",
        "print (vec1)"
      ],
      "metadata": {
        "id": "0FL3-boj0T_Y"
      },
      "execution_count": null,
      "outputs": []
    },
    {
      "cell_type": "code",
      "source": [
        "A3 * vec1"
      ],
      "metadata": {
        "id": "ss1hQDTU0e-s"
      },
      "execution_count": null,
      "outputs": []
    },
    {
      "cell_type": "code",
      "source": [
        "A_t = A3.T\n",
        "print (A_t)"
      ],
      "metadata": {
        "id": "sCxUGZ9B0tqy"
      },
      "execution_count": null,
      "outputs": []
    },
    {
      "cell_type": "code",
      "source": [
        "# обратная матрица\n",
        "A_o = np.linalg.inv (A3)\n",
        "print (A_o)"
      ],
      "metadata": {
        "id": "yr17Ukd81MxM"
      },
      "execution_count": null,
      "outputs": []
    },
    {
      "cell_type": "code",
      "source": [
        "# видим, что матрица не является обратной, проведем проверку\n",
        "A_o @ A3"
      ],
      "metadata": {
        "id": "4ur7AehVEJKw"
      },
      "execution_count": null,
      "outputs": []
    },
    {
      "cell_type": "code",
      "source": [
        "# найдем собственные значения векторов\n",
        "m = np.array([[2, 2],\n",
        "              [1, 3]])\n",
        "print(m)"
      ],
      "metadata": {
        "id": "0K870iIqEo3c"
      },
      "execution_count": null,
      "outputs": []
    },
    {
      "cell_type": "code",
      "source": [
        "m1 = np.linalg.eig (m)\n",
        "print (m1)"
      ],
      "metadata": {
        "id": "4x59i7imE1mJ"
      },
      "execution_count": null,
      "outputs": []
    },
    {
      "cell_type": "code",
      "source": [
        "# придумать матрицу, у которой определитель будет равен 1\n",
        "def matrix_determinant_1():\n",
        "  C = np.random.random ((3, 3))\n",
        "  C_det = np.linalg.det (C)\n",
        "\n",
        ""
      ],
      "metadata": {
        "id": "BluWX6AHGmOd"
      },
      "execution_count": null,
      "outputs": []
    }
  ]
}