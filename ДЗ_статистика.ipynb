{
  "nbformat": 4,
  "nbformat_minor": 0,
  "metadata": {
    "colab": {
      "private_outputs": true,
      "provenance": [],
      "mount_file_id": "1kQX1O4tR_ClBtf5nSyvYvomSOjv1JTfc",
      "authorship_tag": "ABX9TyMWphNHc3ZZN7Cw/Jvn1AWb"
    },
    "kernelspec": {
      "name": "python3",
      "display_name": "Python 3"
    },
    "language_info": {
      "name": "python"
    }
  },
  "cells": [
    {
      "cell_type": "markdown",
      "source": [
        "Задание 1. Загрузка данных\n",
        "Изучить представленный набор данных на основе описания его столбцов в файле “horse_data.names” , загрузить его и оставить 8 столбцов для дальнейшего изучения: surgery?, Age, rectal temperature, pulse, respiratory rate, temperature of extremities, pain, outcome."
      ],
      "metadata": {
        "id": "G9df_fDMXBJ7"
      }
    },
    {
      "cell_type": "code",
      "source": [
        "import pandas as pd\n",
        "import numpy as np\n",
        "import matplotlib.pyplot as plt\n",
        "import seaborn as sns\n",
        "from scipy import stats"
      ],
      "metadata": {
        "id": "Si6sPWM9XB6a"
      },
      "execution_count": null,
      "outputs": []
    },
    {
      "cell_type": "code",
      "source": [
        "from google.colab import drive\n",
        "drive.mount('/content/drive')"
      ],
      "metadata": {
        "id": "BmlLrvlCbMxK"
      },
      "execution_count": null,
      "outputs": []
    },
    {
      "cell_type": "code",
      "source": [
        "df=pd.read_csv(\"/content/drive/MyDrive/Данные_фильмы_ДЗ1_Pandas/horse_data.csv\", header=None, na_values='?')\n",
        "\n"
      ],
      "metadata": {
        "id": "4Lb-Qc8GXXXi"
      },
      "execution_count": null,
      "outputs": []
    },
    {
      "cell_type": "code",
      "source": [
        "df.head(5)"
      ],
      "metadata": {
        "id": "AO79cGppRuVY"
      },
      "execution_count": null,
      "outputs": []
    },
    {
      "cell_type": "code",
      "source": [
        "df.info()"
      ],
      "metadata": {
        "id": "u-HcoyyDbqy0"
      },
      "execution_count": null,
      "outputs": []
    },
    {
      "cell_type": "markdown",
      "source": [
        "по вышезапрошенной информации можно сделать вывод:\n",
        "1. Данные имеют 300 строк и 28 столбцов;\n",
        "2. 7 столбцов имеют числовой формат, 21 столбец имеет текстовый формат;\n",
        "4. объем памяти - 65.5 КВ (необъемные данные)."
      ],
      "metadata": {
        "id": "YOmlk5qWcBAQ"
      }
    },
    {
      "cell_type": "code",
      "source": [
        "print(df.columns.tolist())"
      ],
      "metadata": {
        "id": "-OR6kwPVekrE"
      },
      "execution_count": null,
      "outputs": []
    },
    {
      "cell_type": "code",
      "source": [
        "# необходимо дать имена столбцам\n",
        "df.columns = [ \"surgery?\", \"age\", \"hospital_number\", \"rectal_temperature\", \"pulse\", \"respiratory_rate\",\n",
        "    \"temperature_of_extremities\", \"peripheral_pulse\", \"mucous_membranes\", \"capillary_refill_time\",\n",
        "    \"pain\", \"peristalsis\", \"abdominal_distension\", \"nasogastric_tube\", \"nasogastric_reflux\",\n",
        "    \"nasogastric_reflux_ph\", \"rectal_examination\", \"abdomen\", \"packed_cell_volume\", \"total_protein\",\n",
        "    \"abdominocentesis_appearance\", \"abdominocentesis_total_protein\", \"outcome\",\n",
        "    \"surgical_lesion\", \"type_of_lesion_1\", \"type_of_lesion_2\", \"type_of_lesion_3\", \"cp_data\"]"
      ],
      "metadata": {
        "id": "DYRVAYeD_FNm"
      },
      "execution_count": null,
      "outputs": []
    },
    {
      "cell_type": "code",
      "source": [
        "print(df.columns.tolist()) # проверяем"
      ],
      "metadata": {
        "id": "heNnwYFC_lBO"
      },
      "execution_count": null,
      "outputs": []
    },
    {
      "cell_type": "markdown",
      "source": [
        "Оставим столбцы, которые нам необходимы для дальнейшего анализа"
      ],
      "metadata": {
        "id": "F4Osf4ZodcfA"
      }
    },
    {
      "cell_type": "code",
      "source": [
        "selected_columns=[\n",
        "    \"surgery?\", \"age\", \"rectal_temperature\", \"pulse\", \"respiratory_rate\", \"temperature_of_extremities\",\n",
        "    \"pain\", \"outcome\"\n",
        "]\n",
        "df1 = df[selected_columns].copy()\n",
        "\n",
        "\n"
      ],
      "metadata": {
        "id": "sNScrHi3Bult"
      },
      "execution_count": null,
      "outputs": []
    },
    {
      "cell_type": "code",
      "source": [
        "df1"
      ],
      "metadata": {
        "id": "VGGj1SR06rVN"
      },
      "execution_count": null,
      "outputs": []
    },
    {
      "cell_type": "code",
      "source": [
        "# посмотрим базовые статистики для колич.данных\n",
        "statistics = df1[['rectal_temperature', 'pulse', 'respiratory_rate']].describe()\n",
        "print(statistics)"
      ],
      "metadata": {
        "id": "SQVB82DtDlbO"
      },
      "execution_count": null,
      "outputs": []
    },
    {
      "cell_type": "code",
      "source": [
        "# для категориальных данных\n",
        "statistics2=df1[['surgery?','age', 'temperature_of_extremities', 'pain', 'outcome']].value_counts()\n",
        "print(statistics2)"
      ],
      "metadata": {
        "id": "sgfrOyJZmErr"
      },
      "execution_count": null,
      "outputs": []
    },
    {
      "cell_type": "code",
      "source": [
        "statistics3=df1 [['surgery?','age', 'temperature_of_extremities', 'pain', 'outcome']].mode()\n",
        "print(statistics3)"
      ],
      "metadata": {
        "id": "8NBUiR9rkGvt"
      },
      "execution_count": null,
      "outputs": []
    },
    {
      "cell_type": "code",
      "source": [
        "for column in selected_columns:\n",
        "    unique_values = df1[column].unique()\n",
        "    print(f'Unique values in {column}: {unique_values}')"
      ],
      "metadata": {
        "id": "9doeZBWJmrSv"
      },
      "execution_count": null,
      "outputs": []
    },
    {
      "cell_type": "code",
      "source": [
        "df1['age'] = df['age'].replace(9, 1)\n",
        "df1.to_csv('corrected_data.csv', index=False)\n",
        "\n"
      ],
      "metadata": {
        "id": "kg7Kd86moH2H"
      },
      "execution_count": null,
      "outputs": []
    },
    {
      "cell_type": "code",
      "source": [
        "df1.isna ().mean ()*100 # доля пропусков"
      ],
      "metadata": {
        "id": "Dk3fllmpFJO3"
      },
      "execution_count": null,
      "outputs": []
    },
    {
      "cell_type": "markdown",
      "source": [
        "Делаем вывод о большой доли пропусков в вышеуказанных столбцах.\n",
        "Возникает вопрос, что делать с данными пропусками, так как заполнение пропусков в данном случае может исказить результаты (медицинские измерения). Но тем не менее посмотрим, как показатели зависят друг от друга. Например, как температура зависит от возраста, или пульс и частота дыхания от возраста лошади."
      ],
      "metadata": {
        "id": "yaXM6MFyG650"
      }
    },
    {
      "cell_type": "code",
      "source": [
        "df1.groupby ('age') ['rectal_temperature'].median ().sort_values ()"
      ],
      "metadata": {
        "id": "oPyQBrbbHlR8"
      },
      "execution_count": null,
      "outputs": []
    },
    {
      "cell_type": "code",
      "source": [
        "df1.groupby ('pulse') ['rectal_temperature'].median ().sort_values ()"
      ],
      "metadata": {
        "id": "b4_Hu7wkCr8g"
      },
      "execution_count": null,
      "outputs": []
    },
    {
      "cell_type": "markdown",
      "source": [
        "Зависимости от пульса не наблюдается."
      ],
      "metadata": {
        "id": "-hKSKJMb-5D4"
      }
    },
    {
      "cell_type": "code",
      "source": [
        "df1.groupby ('age') ['respiratory_rate'].median ().sort_values ()"
      ],
      "metadata": {
        "id": "fjPm3W2hLNxZ"
      },
      "execution_count": null,
      "outputs": []
    },
    {
      "cell_type": "markdown",
      "source": [
        "Здесь же мы видим, что с возрастом увеличивается показатель частоты дыхания"
      ],
      "metadata": {
        "id": "vpXMWie2LvUQ"
      }
    },
    {
      "cell_type": "code",
      "source": [
        "df1.groupby ('age') ['temperature_of_extremities'].median ().sort_values ()"
      ],
      "metadata": {
        "id": "a_YbWjlLLXnV"
      },
      "execution_count": null,
      "outputs": []
    },
    {
      "cell_type": "markdown",
      "source": [
        "Здесь мы также не наблюдаем зависимости температуры от возраста"
      ],
      "metadata": {
        "id": "7guRKSkc_FgL"
      }
    },
    {
      "cell_type": "code",
      "source": [
        "df1.groupby ('age') ['pulse'].median ().sort_values ()"
      ],
      "metadata": {
        "id": "PzMc9wEO8jsO"
      },
      "execution_count": null,
      "outputs": []
    },
    {
      "cell_type": "markdown",
      "source": [
        "С возрастом увеличивается пульс. Эти полученные данные мы будем использовать дальше для заполнения пропусков в столбцах."
      ],
      "metadata": {
        "id": "H5yhD4vL8tcF"
      }
    },
    {
      "cell_type": "code",
      "source": [
        "# ВОПРОС! # найдем выбросы, используя метод межквартильного размаха\n",
        "def detect_outliers_iqr(selected_columns):\n",
        "    Q1 = selected_columns.quantile(0.25)\n",
        "    Q3 = selected_columns.quantile(0.75)\n",
        "    IQR = Q3 - Q1\n",
        "    lower_bound = Q1 - 1.5 * IQR\n",
        "    upper_bound = Q3 + 1.5 * IQR\n",
        "    return (selected_columns < lower_bound) | (selected_columns > upper_bound)\n",
        "\n",
        "# Применяем функцию ко всем числовым столбцам\n",
        "outliers = df1.apply(detect_outliers_iqr)\n",
        "\n",
        "# Выводим результат\n",
        "outliers_summary = df1[outliers.any(axis=1)]\n",
        "print(\"Записи с выбросами:\")\n",
        "print(outliers_summary)"
      ],
      "metadata": {
        "id": "WFWW8Hounigq"
      },
      "execution_count": null,
      "outputs": []
    },
    {
      "cell_type": "code",
      "source": [
        "# посмотрим количество пропусков\n",
        "missing_data = df1.isnull().sum()\n",
        "print(\"\\nКоличество пропусков по столбцам:\\n\", missing_data)\n"
      ],
      "metadata": {
        "id": "TeHvqmwJCX42"
      },
      "execution_count": null,
      "outputs": []
    },
    {
      "cell_type": "code",
      "source": [
        "# ВОПРОС! # так как мы убедились, что с повышением возраста повышается пульс, то заполним пустые значения по этому столбцу\n",
        "df1 ['pulse'].fillna (df1.groupby ('age')['pulse'].transform ('median'))"
      ],
      "metadata": {
        "id": "VjkwZVIbBfpt"
      },
      "execution_count": null,
      "outputs": []
    },
    {
      "cell_type": "code",
      "source": [
        "df1.head()"
      ],
      "metadata": {
        "id": "QhgawxgfsT5j"
      },
      "execution_count": null,
      "outputs": []
    },
    {
      "cell_type": "code",
      "source": [
        "missing_data = df1.isnull().sum()\n",
        "print(\"\\nКоличество пропусков по столбцам:\\n\", missing_data)"
      ],
      "metadata": {
        "id": "RPR3z42uet6s"
      },
      "execution_count": null,
      "outputs": []
    },
    {
      "cell_type": "code",
      "source": [
        "# построим визуализацию зависимости пульса от возраста\n",
        "sns.boxplot(data = df1, x = 'age', y = 'pulse')\n",
        "plt.title ('Зависимость пульса от возраста')\n",
        "plt.show\n"
      ],
      "metadata": {
        "id": "Rh1Qk0b_GuzX"
      },
      "execution_count": null,
      "outputs": []
    },
    {
      "cell_type": "code",
      "source": [
        "df1 ['respiratory_rate'].fillna (df1.groupby ('age')['respiratory_rate'].transform ('median'))"
      ],
      "metadata": {
        "id": "8J4zc2ShD342"
      },
      "execution_count": null,
      "outputs": []
    },
    {
      "cell_type": "code",
      "source": [
        "# построим визуализацию зависимости частоты дыхания от пульса\n",
        "sns.boxplot (data = df1, x = 'age', y = 'respiratory_rate')\n",
        "plt.title ('Зависимость частоты дыхания от возраста')\n",
        "plt.show"
      ],
      "metadata": {
        "id": "Roq8jrjgHlaI"
      },
      "execution_count": null,
      "outputs": []
    },
    {
      "cell_type": "code",
      "source": [
        "df1['rectal_temperature'].fillna(df1.median, inplace=True)\n"
      ],
      "metadata": {
        "id": "f1DOf4SJs0ft"
      },
      "execution_count": null,
      "outputs": []
    },
    {
      "cell_type": "code",
      "source": [
        "### ОБЩЕЕ заполнение пропусков. ДО этого не понимаю как работает, если добавлять в соотв. с взаимосвязью столбцов\n",
        "\n",
        "# Заполнение пропусков\n",
        "for selected_columns in df1.columns:\n",
        "    if df1[selected_columns].dtype == 'float64' or df1[selected_columns].dtype == 'int64':\n",
        "        df1[selected_columns] = df1[selected_columns].fillna(df1[selected_columns].median())  # Числовые заполняем медианой\n",
        "    else:\n",
        "        df1[selected_columns] = df1[selected_columns].fillna(df1[selected_columns].mode()[0])  # Категориальные заполняем модой\n",
        "\n",
        "print(\"\\nДатафрейм без пропусков:\\n\", df1.head())"
      ],
      "metadata": {
        "id": "E2K_nA8f18iT"
      },
      "execution_count": null,
      "outputs": []
    }
  ]
}