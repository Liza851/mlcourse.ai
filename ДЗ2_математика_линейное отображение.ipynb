{
  "nbformat": 4,
  "nbformat_minor": 0,
  "metadata": {
    "colab": {
      "private_outputs": true,
      "provenance": [],
      "authorship_tag": "ABX9TyP50a0u8nMJ+yAT91xP9AgV"
    },
    "kernelspec": {
      "name": "python3",
      "display_name": "Python 3"
    },
    "language_info": {
      "name": "python"
    }
  },
  "cells": [
    {
      "cell_type": "code",
      "execution_count": null,
      "metadata": {
        "id": "v0wHjuz2aiNL"
      },
      "outputs": [],
      "source": [
        "# При помощи линейных отображений:\n",
        "# Уменьшить объект в два раза\n",
        "# Повернуть на 130 градусов\n",
        "# Отразить объект относительно прямой y=x (поможет матрица [[0, 1, 0], [1, 0, 0], [0, 0, 1]])\n",
        "import numpy as np\n",
        "import matplotlib.pyplot as plt"
      ]
    },
    {
      "cell_type": "code",
      "source": [
        "# Исходные данные\n",
        "A = [\n",
        "[-100, -100, 1],\n",
        "[-100, 100, 1],\n",
        "[100, 100, 1],\n",
        "[0, 0, 1],\n",
        "[100, -100, 1],\n",
        "[-100, -100, 1]\n",
        "]"
      ],
      "metadata": {
        "id": "I-zctzjXa8KO"
      },
      "execution_count": null,
      "outputs": []
    },
    {
      "cell_type": "code",
      "source": [
        "A = np.array (A)\n",
        "x = A[:,0];\n",
        "y = A[:,1]"
      ],
      "metadata": {
        "id": "p7eS4hS5bdYK"
      },
      "execution_count": null,
      "outputs": []
    },
    {
      "cell_type": "code",
      "source": [
        "# Извлечение координат\n",
        "x = A[:, 0]\n",
        "y = A[:, 1]"
      ],
      "metadata": {
        "id": "CW2lYHyOqFDS"
      },
      "execution_count": null,
      "outputs": []
    },
    {
      "cell_type": "code",
      "source": [
        "plt.plot(x, y)\n",
        "plt.ylim([-200, 200])\n",
        "plt.xlim([-200, 200])"
      ],
      "metadata": {
        "id": "Q0PXveefcKyv"
      },
      "execution_count": null,
      "outputs": []
    },
    {
      "cell_type": "code",
      "source": [
        "# Масштабируем матрицу\n",
        "B = np.array([\n",
        "    [0.5, 0, 0],\n",
        "    [0, 0.5, 0],\n",
        "    [0, 0, 1]\n",
        "])\n",
        "\n"
      ],
      "metadata": {
        "id": "rDByaBU26F5C"
      },
      "execution_count": null,
      "outputs": []
    },
    {
      "cell_type": "code",
      "source": [
        "C = A @ B"
      ],
      "metadata": {
        "id": "TLh47_7_ENTA"
      },
      "execution_count": null,
      "outputs": []
    },
    {
      "cell_type": "code",
      "source": [
        "A = np.array (C);\n",
        "x = A[:,0];\n",
        "y = A[:,1]\n",
        "plt.plot(x, y)\n",
        "plt.ylim([-200, 200])\n",
        "plt.xlim([-200, 200])"
      ],
      "metadata": {
        "id": "sfaQfNCb6LBz"
      },
      "execution_count": null,
      "outputs": []
    },
    {
      "cell_type": "code",
      "source": [
        "# разворот на 130 градусов\n",
        "D = np.array ([[np.cos (130), np.sin (130), 0],\n",
        "               [np.sin(130), np.cos (130), 0],\n",
        "               [0, 0, 1]])\n",
        "print (D)"
      ],
      "metadata": {
        "id": "kxR4diocGKsx"
      },
      "execution_count": null,
      "outputs": []
    },
    {
      "cell_type": "code",
      "source": [
        "res = A @ D"
      ],
      "metadata": {
        "id": "CXMjFleyHM_n"
      },
      "execution_count": null,
      "outputs": []
    },
    {
      "cell_type": "code",
      "source": [
        "A = np.array (res);\n",
        "x = A[:,0];\n",
        "y = A[:,1]\n",
        "plt.plot(x, y)\n",
        "plt.ylim([-200, 200])\n",
        "plt.xlim([-200, 200])"
      ],
      "metadata": {
        "id": "iRSFq85DHS-E"
      },
      "execution_count": null,
      "outputs": []
    },
    {
      "cell_type": "code",
      "source": [
        "# отражаем объект относительно прямой y = x\n",
        "O = np.array ([[0, 1, 0], [1, 0, 0], [0, 0, 1]])"
      ],
      "metadata": {
        "id": "oEYMWL0nHbCM"
      },
      "execution_count": null,
      "outputs": []
    },
    {
      "cell_type": "code",
      "source": [
        "R = A @ O"
      ],
      "metadata": {
        "id": "bdw-E42aILWC"
      },
      "execution_count": null,
      "outputs": []
    },
    {
      "cell_type": "code",
      "source": [
        "A = np.array (R);\n",
        "x = A[:,0];\n",
        "y = A[:,1]\n",
        "plt.plot(x, y)\n",
        "plt.ylim([-200, 200])\n",
        "plt.xlim([-200, 200])"
      ],
      "metadata": {
        "id": "j35IYZgcIVi6"
      },
      "execution_count": null,
      "outputs": []
    },
    {
      "cell_type": "code",
      "source": [
        "# Найдите спектральное разложение матрицы:\n",
        "\n",
        "M = np.array([[1, 2],\n",
        "              [2, 3]])\n",
        "print(M)"
      ],
      "metadata": {
        "id": "lbcFkZpSMhcs"
      },
      "execution_count": null,
      "outputs": []
    },
    {
      "cell_type": "code",
      "source": [
        "# собсвенные вектора и значения векторов\n",
        "S, S1 = np.linalg.eig (M)\n",
        "print (S, S1)"
      ],
      "metadata": {
        "id": "T0LzQQVdM-eh"
      },
      "execution_count": null,
      "outputs": []
    },
    {
      "cell_type": "code",
      "source": [
        "D = np.diag(S)"
      ],
      "metadata": {
        "id": "N99-1SDHO5Dz"
      },
      "execution_count": null,
      "outputs": []
    },
    {
      "cell_type": "code",
      "source": [
        "M = S * D * S.transpose ()\n",
        "print (M)"
      ],
      "metadata": {
        "id": "OMgrHZ9DMl1t"
      },
      "execution_count": null,
      "outputs": []
    }
  ]
}